{
 "cells": [
  {
   "cell_type": "markdown",
   "id": "f4319ad5-7b8d-47ae-8227-230ce6ee40ec",
   "metadata": {},
   "source": [
    "# Pyspark Compatibility Tests"
   ]
  },
  {
   "cell_type": "markdown",
   "id": "5df866f0-8ca1-458a-a427-f01ffcdd77ae",
   "metadata": {
    "tags": []
   },
   "source": [
    "## PCA\n",
    "From: https://spark.apache.org/docs/latest/api/python/reference/api/pyspark.ml.feature.PCA.html#pyspark.ml.feature.PCA"
   ]
  },
  {
   "cell_type": "code",
   "execution_count": null,
   "id": "d73ca9e5-d033-435b-8f8c-2aa64ee2a251",
   "metadata": {},
   "outputs": [],
   "source": [
    "PYSPARK = False\n",
    "SPARK_RAPIDS_ML = not PYSPARK\n",
    "\n",
    "import shutil"
   ]
  },
  {
   "cell_type": "code",
   "execution_count": null,
   "id": "65bb00c7-7aba-45a6-8998-3182051b2f1a",
   "metadata": {},
   "outputs": [],
   "source": [
    "if PYSPARK:\n",
    "    from pyspark.ml.feature import PCA, PCAModel\n",
    "else:\n",
    "    from spark_rapids_ml.feature import PCA, PCAModel\n",
    "\n",
    "from pyspark.ml.linalg import Vectors"
   ]
  },
  {
   "cell_type": "code",
   "execution_count": null,
   "id": "8f56d981-48b1-4daf-acb6-8ba4fdba06a5",
   "metadata": {},
   "outputs": [],
   "source": [
    "data = [(Vectors.sparse(5, [(1, 1.0), (3, 7.0)]),),\n",
    "        (Vectors.dense([2.0, 0.0, 3.0, 4.0, 5.0]),),\n",
    "        (Vectors.dense([4.0, 0.0, 0.0, 6.0, 7.0]),)]\n",
    "\n",
    "data"
   ]
  },
  {
   "cell_type": "code",
   "execution_count": null,
   "id": "5ae01021-9ccd-4545-a054-f61c39c6b224",
   "metadata": {},
   "outputs": [],
   "source": [
    "df = spark.createDataFrame(data,[\"features\"])\n",
    "df.show(); df.schema"
   ]
  },
  {
   "cell_type": "code",
   "execution_count": null,
   "id": "63028b55-5642-4552-9c3d-347e26466956",
   "metadata": {},
   "outputs": [],
   "source": [
    "pca = PCA()\n",
    "print(pca.explainParams())"
   ]
  },
  {
   "cell_type": "code",
   "execution_count": null,
   "id": "2830b959-ff86-40f8-8595-d1ec683eb5d7",
   "metadata": {},
   "outputs": [],
   "source": [
    "pca = PCA(k=2, inputCol=\"features\")\n",
    "pca.setOutputCol(\"pca_features\")"
   ]
  },
  {
   "cell_type": "code",
   "execution_count": null,
   "id": "966803e8-8a96-4f0f-a046-0eecdd0c0769",
   "metadata": {},
   "outputs": [],
   "source": [
    "print(pca.explainParams())"
   ]
  },
  {
   "cell_type": "code",
   "execution_count": null,
   "id": "4cc4a9cc-fd81-4fe5-9eee-dd8949bed51b",
   "metadata": {},
   "outputs": [],
   "source": [
    "if SPARK_RAPIDS_ML:\n",
    "    print(pca._param_mapping())\n",
    "    print(pca.cuml_params)"
   ]
  },
  {
   "cell_type": "code",
   "execution_count": null,
   "id": "63804960-9350-4852-a955-fa8ee7a11edc",
   "metadata": {},
   "outputs": [],
   "source": [
    "pca.setK(3)"
   ]
  },
  {
   "cell_type": "code",
   "execution_count": null,
   "id": "90926a3d-fe7b-48d2-99b5-960484b165ba",
   "metadata": {},
   "outputs": [],
   "source": [
    "print(pca.explainParams())"
   ]
  },
  {
   "cell_type": "code",
   "execution_count": null,
   "id": "6950622c-c249-4a9d-894e-78cfe9734b95",
   "metadata": {},
   "outputs": [],
   "source": [
    "if SPARK_RAPIDS_ML:\n",
    "    print(pca.cuml_params)"
   ]
  },
  {
   "cell_type": "code",
   "execution_count": null,
   "id": "b1cc9410-d6ea-4933-ae9c-ceb65833ad34",
   "metadata": {},
   "outputs": [],
   "source": [
    "pca.setK(2)"
   ]
  },
  {
   "cell_type": "code",
   "execution_count": null,
   "id": "a61234f5-070c-4fb4-ad2f-c0b741cf79ae",
   "metadata": {},
   "outputs": [],
   "source": [
    "model = pca.fit(df)"
   ]
  },
  {
   "cell_type": "code",
   "execution_count": null,
   "id": "e3e74f81-476d-4423-bbe5-46b59480d749",
   "metadata": {},
   "outputs": [],
   "source": [
    "model.getK()\n",
    "# 2"
   ]
  },
  {
   "cell_type": "code",
   "execution_count": null,
   "id": "7a70f79c-2f66-4a5e-82a9-c2cfe02f490e",
   "metadata": {},
   "outputs": [],
   "source": [
    "model.setOutputCol(\"output\")"
   ]
  },
  {
   "cell_type": "code",
   "execution_count": null,
   "id": "11ed38a9-743e-4598-9ccf-dc28b2e78ae9",
   "metadata": {},
   "outputs": [],
   "source": [
    "print(model.explainParams())"
   ]
  },
  {
   "cell_type": "code",
   "execution_count": null,
   "id": "95db536e-ccda-4380-93cd-4d313365a697",
   "metadata": {},
   "outputs": [],
   "source": [
    "if SPARK_RAPIDS_ML:\n",
    "    print(model.cuml_params)"
   ]
  },
  {
   "cell_type": "code",
   "execution_count": null,
   "id": "08e8b235-e7a3-4694-9a62-46e9ec93094d",
   "metadata": {},
   "outputs": [],
   "source": [
    "model.transform(df).collect()[0].output\n",
    "# DenseVector([1.648..., -4.013...])"
   ]
  },
  {
   "cell_type": "code",
   "execution_count": null,
   "id": "8c1db46f-72f8-43f6-aaf8-6aebd4c7318a",
   "metadata": {},
   "outputs": [],
   "source": [
    "model.explainedVariance\n",
    "# DenseVector([0.794..., 0.205...])"
   ]
  },
  {
   "cell_type": "code",
   "execution_count": null,
   "id": "99f3e554-fb17-44f5-bad2-ae8b306167ed",
   "metadata": {},
   "outputs": [],
   "source": [
    "model.pc\n",
    "# DenseMatrix(5, 2, [-0.4486, 0.133, -0.1252, 0.2165, -0.8477, -0.2842, -0.0562, 0.7636, -0.5653, -0.1156], 0)"
   ]
  },
  {
   "cell_type": "code",
   "execution_count": null,
   "id": "d311379e-d024-4a77-bcd7-ad425b7079fc",
   "metadata": {},
   "outputs": [],
   "source": [
    "pcaPath = \"/tmp/pca\"\n",
    "pca.write().overwrite().save(pcaPath)"
   ]
  },
  {
   "cell_type": "code",
   "execution_count": null,
   "id": "1cd390f1-c709-4f4d-9a83-f86b1e0573e0",
   "metadata": {},
   "outputs": [],
   "source": [
    "loadedPca = PCA.load(pcaPath)\n",
    "loadedPca.getK() == pca.getK()\n",
    "# True"
   ]
  },
  {
   "cell_type": "code",
   "execution_count": null,
   "id": "1cb9a5d4-a09f-435e-933b-59ceadbf92d4",
   "metadata": {},
   "outputs": [],
   "source": [
    "# confirm saved estimator cuml_params\n",
    "if SPARK_RAPIDS_ML:\n",
    "    print(pca.cuml_params)\n",
    "    print(loadedPca.cuml_params)"
   ]
  },
  {
   "cell_type": "code",
   "execution_count": null,
   "id": "9a679b7a-98d8-4174-bef4-e4d8ec2b3ea2",
   "metadata": {},
   "outputs": [],
   "source": [
    "modelPath = \"/tmp/pca-model\"\n",
    "model.write().overwrite().save(modelPath)"
   ]
  },
  {
   "cell_type": "code",
   "execution_count": null,
   "id": "47aad8bd-b4bb-410d-873d-bdc9ba9d0c96",
   "metadata": {},
   "outputs": [],
   "source": [
    "loadedModel = PCAModel.load(modelPath)\n",
    "loadedModel.pc == model.pc\n",
    "# True"
   ]
  },
  {
   "cell_type": "code",
   "execution_count": null,
   "id": "0e57e11e-4ac5-4145-9351-6577e2e14e3f",
   "metadata": {},
   "outputs": [],
   "source": [
    "# confirm saved model cuml_params\n",
    "if SPARK_RAPIDS_ML:\n",
    "    print(model.cuml_params)\n",
    "    print(loadedModel.cuml_params)"
   ]
  },
  {
   "cell_type": "code",
   "execution_count": null,
   "id": "44681be2-a2a5-4111-8fb0-46a77dfa61dd",
   "metadata": {},
   "outputs": [],
   "source": [
    "loadedModel.explainedVariance == model.explainedVariance\n",
    "# True"
   ]
  },
  {
   "cell_type": "code",
   "execution_count": null,
   "id": "081bb7ef-86b6-45e3-88d8-cea892777bc9",
   "metadata": {},
   "outputs": [],
   "source": [
    "loadedModel.transform(df).take(1) == model.transform(df).take(1)\n",
    "# True"
   ]
  },
  {
   "cell_type": "markdown",
   "id": "950f3f77-2016-43ae-8b8c-c8fd2b7117e9",
   "metadata": {
    "tags": []
   },
   "source": [
    "## KMeans\n",
    "From: https://spark.apache.org/docs/latest/api/python/reference/api/pyspark.ml.clustering.KMeans.html#pyspark.ml.clustering.KMeans"
   ]
  },
  {
   "cell_type": "code",
   "execution_count": null,
   "id": "304140a6-06d8-4d53-b3c1-576756f2a422",
   "metadata": {},
   "outputs": [],
   "source": [
    "PYSPARK = False\n",
    "SPARK_RAPIDS_ML = not PYSPARK\n",
    "\n",
    "import shutil"
   ]
  },
  {
   "cell_type": "code",
   "execution_count": null,
   "id": "4cc1d3be-9835-4157-b836-a49f4a6d0577",
   "metadata": {},
   "outputs": [],
   "source": [
    "if PYSPARK:\n",
    "    from pyspark.ml.clustering import KMeans, KMeansModel\n",
    "else:\n",
    "    from spark_rapids_ml.clustering import KMeans, KMeansModel"
   ]
  },
  {
   "cell_type": "code",
   "execution_count": null,
   "id": "f5f09d6f-66cd-4b1e-9926-b9fe0eb08119",
   "metadata": {},
   "outputs": [],
   "source": [
    "from pyspark.ml.linalg import Vectors"
   ]
  },
  {
   "cell_type": "code",
   "execution_count": null,
   "id": "c1b3d2b2-91da-4ec5-abbe-19667ac0f992",
   "metadata": {},
   "outputs": [],
   "source": [
    "data = [(Vectors.dense([0.0, 0.0]), 2.0), (Vectors.dense([1.0, 1.0]), 2.0),\n",
    "        (Vectors.dense([9.0, 8.0]), 2.0), (Vectors.dense([8.0, 9.0]), 2.0)]"
   ]
  },
  {
   "cell_type": "code",
   "execution_count": null,
   "id": "8d8017c4-9ca0-40ec-be4c-15aef93368ad",
   "metadata": {},
   "outputs": [],
   "source": [
    "df = spark.createDataFrame(data, [\"features\", \"weighCol\"]).repartition(1)\n",
    "df.show(); df.schema"
   ]
  },
  {
   "cell_type": "code",
   "execution_count": null,
   "id": "b77ee895-d2b7-4a6c-a6f1-d66eb10f7b0a",
   "metadata": {},
   "outputs": [],
   "source": [
    "kmeans = KMeans()"
   ]
  },
  {
   "cell_type": "code",
   "execution_count": null,
   "id": "7d6c28d8-7ecb-47db-a016-6d8211abb638",
   "metadata": {},
   "outputs": [],
   "source": [
    "print(kmeans.explainParams())"
   ]
  },
  {
   "cell_type": "code",
   "execution_count": null,
   "id": "edaaa7b6-1e44-42e8-bc34-e2c810a41689",
   "metadata": {},
   "outputs": [],
   "source": [
    "if SPARK_RAPIDS_ML:\n",
    "    print(kmeans._param_mapping())\n",
    "    print(kmeans.cuml_params)"
   ]
  },
  {
   "cell_type": "code",
   "execution_count": null,
   "id": "238bde84-42a4-4280-9f7e-c0fc678128e7",
   "metadata": {},
   "outputs": [],
   "source": [
    "kmeans = KMeans(k=2)\n",
    "kmeans.setSeed(1)\n",
    "kmeans.setMaxIter(10)\n",
    "\n",
    "if PYSPARK:\n",
    "    kmeans.setWeightCol(\"weighCol\")"
   ]
  },
  {
   "cell_type": "code",
   "execution_count": null,
   "id": "c658398a-0285-4438-9abe-0ccd196f625a",
   "metadata": {},
   "outputs": [],
   "source": [
    "print(kmeans.explainParams())"
   ]
  },
  {
   "cell_type": "code",
   "execution_count": null,
   "id": "26521ef4-8139-47c0-ad24-0b9c5f786139",
   "metadata": {},
   "outputs": [],
   "source": [
    "if SPARK_RAPIDS_ML:\n",
    "    print(kmeans.cuml_params)"
   ]
  },
  {
   "cell_type": "code",
   "execution_count": null,
   "id": "94b3278f-d5ee-4680-89be-b849b9991a05",
   "metadata": {},
   "outputs": [],
   "source": [
    "kmeans.getMaxIter()\n",
    "# 10"
   ]
  },
  {
   "cell_type": "code",
   "execution_count": null,
   "id": "f137bb82-8bd3-4909-9df5-8be5a2d2fd7e",
   "metadata": {},
   "outputs": [],
   "source": [
    "kmeans.clear(kmeans.maxIter)"
   ]
  },
  {
   "cell_type": "code",
   "execution_count": null,
   "id": "c155513a-4386-4f08-b8f6-0b9ef2c46947",
   "metadata": {},
   "outputs": [],
   "source": [
    "print(kmeans.explainParams())"
   ]
  },
  {
   "cell_type": "code",
   "execution_count": null,
   "id": "cc9bf801-2dc9-47b7-bcad-d43991e8aeb4",
   "metadata": {},
   "outputs": [],
   "source": [
    "if SPARK_RAPIDS_ML:\n",
    "    print(kmeans.cuml_params)"
   ]
  },
  {
   "cell_type": "code",
   "execution_count": null,
   "id": "6b7c2bb5-c827-4df5-bc1a-6275775cf1b5",
   "metadata": {},
   "outputs": [],
   "source": [
    "kmeans.setFeaturesCol(\"features\")"
   ]
  },
  {
   "cell_type": "code",
   "execution_count": null,
   "id": "f0aa3a31-c619-4201-81c7-09bbf566e2af",
   "metadata": {},
   "outputs": [],
   "source": [
    "model = kmeans.fit(df)"
   ]
  },
  {
   "cell_type": "code",
   "execution_count": null,
   "id": "d8e06e0c-302f-441b-9d74-de0b1b780094",
   "metadata": {},
   "outputs": [],
   "source": [
    "model.getDistanceMeasure()\n",
    "# 'euclidean'\n",
    "# Note: this is not used in spark_rapids_ml (may be implied)"
   ]
  },
  {
   "cell_type": "code",
   "execution_count": null,
   "id": "f3cc0c6a-a09a-4da7-b037-b4101244b780",
   "metadata": {},
   "outputs": [],
   "source": [
    "model.setPredictionCol(\"newPrediction\")"
   ]
  },
  {
   "cell_type": "code",
   "execution_count": null,
   "id": "3915c572-5250-4005-857b-d3beacf03d92",
   "metadata": {},
   "outputs": [],
   "source": [
    "print(model.explainParams())"
   ]
  },
  {
   "cell_type": "code",
   "execution_count": null,
   "id": "0f688351-cf4f-449b-b0ef-7735779e4d0b",
   "metadata": {},
   "outputs": [],
   "source": [
    "if SPARK_RAPIDS_ML:\n",
    "    print(model.cuml_params)"
   ]
  },
  {
   "cell_type": "code",
   "execution_count": null,
   "id": "0a23fe30-d6c3-4e60-b444-9943ca0efdc6",
   "metadata": {},
   "outputs": [],
   "source": [
    "if PYSPARK:\n",
    "    model.predict(df.head().features)\n",
    "    # 0\n",
    "else:\n",
    "    # NotImplementedError: 'predict' method is not supported, use 'transform' instead.\n",
    "    pass"
   ]
  },
  {
   "cell_type": "code",
   "execution_count": null,
   "id": "51d7bf2a-7fea-4e06-bea1-b9c28d3fa348",
   "metadata": {},
   "outputs": [],
   "source": [
    "centers = model.clusterCenters()\n",
    "len(centers)\n",
    "# 2"
   ]
  },
  {
   "cell_type": "code",
   "execution_count": null,
   "id": "5e3a9f42-6215-4523-92a0-f2d54108f702",
   "metadata": {},
   "outputs": [],
   "source": [
    "centers\n",
    "# [array([0.5, 0.5]), array([8.5, 8.5])]"
   ]
  },
  {
   "cell_type": "code",
   "execution_count": null,
   "id": "cc07f4d2-c338-45c0-90eb-50d8353e98da",
   "metadata": {},
   "outputs": [],
   "source": [
    "if PYSPARK:\n",
    "    transformed = model.transform(df).select(\"features\", \"newPrediction\")\n",
    "else:\n",
    "    # AnalysisException: [UNRESOLVED_COLUMN.WITH_SUGGESTION] A column or function parameter with name `features` cannot be resolved. Did you mean one of the following? [`prediction`].;\n",
    "    # 'Project ['features, 'newPrediction]\n",
    "    # +- MapInPandas _transform_udf(weighCol#1, features#29)#35, [prediction#36]\n",
    "    #    +- Project [weighCol#1, features#29]\n",
    "    #       +- Project [cuml_values_c3BhcmtjdW1sCg==#26, weighCol#1, UDF(cuml_values_c3BhcmtjdW1sCg==#26) AS features#29]\n",
    "    #          +- Project [features#0 AS cuml_values_c3BhcmtjdW1sCg==#26, weighCol#1]\n",
    "    #             +- Repartition 1, true\n",
    "    #                +- LogicalRDD [features#0, weighCol#1], false    \n",
    "    transformed = model.transform(df)\n",
    "    \n",
    "rows = transformed.collect()"
   ]
  },
  {
   "cell_type": "code",
   "execution_count": null,
   "id": "f5030d2c-aeaa-473e-be60-da10444ffe3c",
   "metadata": {},
   "outputs": [],
   "source": [
    "transformed = model.transform(df)\n",
    "transformed.show()\n",
    "# +---------+--------+-------------+\n",
    "# | features|weighCol|newPrediction|\n",
    "# +---------+--------+-------------+\n",
    "# |[0.0,0.0]|     2.0|            0|\n",
    "# |[1.0,1.0]|     2.0|            0|\n",
    "# |[9.0,8.0]|     2.0|            1|\n",
    "# |[8.0,9.0]|     2.0|            1|\n",
    "# +---------+--------+-------------+"
   ]
  },
  {
   "cell_type": "code",
   "execution_count": null,
   "id": "649c9e6d-7545-4f6b-ae83-4b89a8e16b13",
   "metadata": {},
   "outputs": [],
   "source": [
    "rows[0].newPrediction == rows[1].newPrediction\n",
    "# True"
   ]
  },
  {
   "cell_type": "code",
   "execution_count": null,
   "id": "a43c8a3f-e2bf-4911-aa92-679e74184b13",
   "metadata": {},
   "outputs": [],
   "source": [
    "rows[2].newPrediction == rows[3].newPrediction\n",
    "# True"
   ]
  },
  {
   "cell_type": "code",
   "execution_count": null,
   "id": "fa25602c-051d-4528-8945-3ee52a078d8e",
   "metadata": {},
   "outputs": [],
   "source": [
    "model.hasSummary\n",
    "# True"
   ]
  },
  {
   "cell_type": "code",
   "execution_count": null,
   "id": "943cbdaf-f02d-4767-9392-cac19d54e190",
   "metadata": {},
   "outputs": [],
   "source": [
    "if PYSPARK:\n",
    "    summary = model.summary\n",
    "    summary.k\n",
    "    # 2"
   ]
  },
  {
   "cell_type": "code",
   "execution_count": null,
   "id": "eecb8320-cb7c-463c-b61a-5b11b6b1443e",
   "metadata": {},
   "outputs": [],
   "source": [
    "if PYSPARK:\n",
    "    summary.clusterSizes\n",
    "    # [2, 2]"
   ]
  },
  {
   "cell_type": "code",
   "execution_count": null,
   "id": "6d93e6b6-9911-46dc-b09e-a12726ef955d",
   "metadata": {},
   "outputs": [],
   "source": [
    "if PYSPARK:\n",
    "    summary.trainingCost\n",
    "    # 4.0"
   ]
  },
  {
   "cell_type": "code",
   "execution_count": null,
   "id": "16d1505c-c465-46d4-8516-1001b31a99dd",
   "metadata": {},
   "outputs": [],
   "source": [
    "kmeans_path = \"/tmp/kmeans\"\n",
    "kmeans.write().overwrite().save(kmeans_path)"
   ]
  },
  {
   "cell_type": "code",
   "execution_count": null,
   "id": "351c1ebe-fffa-4d57-9982-06d2c3baacdd",
   "metadata": {},
   "outputs": [],
   "source": [
    "kmeans2 = KMeans.load(kmeans_path)\n",
    "kmeans2.getK()\n",
    "# 2"
   ]
  },
  {
   "cell_type": "code",
   "execution_count": null,
   "id": "0a5f8f09-f9ae-4a48-b1b8-4b4b21f49af2",
   "metadata": {},
   "outputs": [],
   "source": [
    "# confirm saved estimator cuml_params\n",
    "if SPARK_RAPIDS_ML:\n",
    "    print(kmeans.cuml_params)\n",
    "    print(kmeans2.cuml_params)"
   ]
  },
  {
   "cell_type": "code",
   "execution_count": null,
   "id": "68dd7f3c-92a3-4a4e-b38a-bc43c33f253f",
   "metadata": {},
   "outputs": [],
   "source": [
    "model_path = \"/tmp/kmeans_model\"\n",
    "model.write().overwrite().save(model_path)"
   ]
  },
  {
   "cell_type": "code",
   "execution_count": null,
   "id": "13e4b816-1cbb-406d-860b-73bdc054b908",
   "metadata": {},
   "outputs": [],
   "source": [
    "model2 = KMeansModel.load(model_path)"
   ]
  },
  {
   "cell_type": "code",
   "execution_count": null,
   "id": "45141fb8-0ded-4813-9ae0-b064954b6690",
   "metadata": {},
   "outputs": [],
   "source": [
    "# confirm saved model cuml_params\n",
    "if SPARK_RAPIDS_ML:\n",
    "    print(model.cuml_params)\n",
    "    print(model2.cuml_params)"
   ]
  },
  {
   "cell_type": "code",
   "execution_count": null,
   "id": "b6abdfca-a24d-43e9-a2a7-88499429ce25",
   "metadata": {},
   "outputs": [],
   "source": [
    "model2.hasSummary\n",
    "# False"
   ]
  },
  {
   "cell_type": "code",
   "execution_count": null,
   "id": "367a1164-f60e-4507-9e53-a7a99cc812aa",
   "metadata": {},
   "outputs": [],
   "source": [
    "model.clusterCenters()[0] == model2.clusterCenters()[0]\n",
    "# array([ True,  True], dtype=bool)"
   ]
  },
  {
   "cell_type": "code",
   "execution_count": null,
   "id": "54baf487-9c5f-4959-8c36-02a1d492336e",
   "metadata": {},
   "outputs": [],
   "source": [
    "model.clusterCenters()[1] == model2.clusterCenters()[1]\n",
    "# array([ True,  True], dtype=bool)"
   ]
  },
  {
   "cell_type": "code",
   "execution_count": null,
   "id": "4a6c8a6d-92eb-4288-9fe0-79ab9e903332",
   "metadata": {},
   "outputs": [],
   "source": [
    "model.transform(df).take(1) == model2.transform(df).take(1)\n",
    "# True"
   ]
  },
  {
   "cell_type": "code",
   "execution_count": null,
   "id": "fa86508c-685e-4dcb-8280-68b20c6d485d",
   "metadata": {},
   "outputs": [],
   "source": [
    "model.transform(df).take(1)\n",
    "# [Row(features=DenseVector([0.0, 0.0]), weighCol=2.0, newPrediction=0)]"
   ]
  },
  {
   "cell_type": "code",
   "execution_count": null,
   "id": "4fd543e5-5892-4013-b97a-99d6580e0877",
   "metadata": {},
   "outputs": [],
   "source": [
    "df.take(1)\n",
    "# [Row(features=DenseVector([0.0, 0.0]), weighCol=2.0)]"
   ]
  },
  {
   "cell_type": "markdown",
   "id": "fea1d778-7431-4137-a704-ae42ad6f1ea2",
   "metadata": {
    "tags": []
   },
   "source": [
    "## LinearRegression\n",
    "\n",
    "From: https://spark.apache.org/docs/latest/api/python/reference/api/pyspark.ml.regression.LinearRegression.html#pyspark.ml.regression.LinearRegression"
   ]
  },
  {
   "cell_type": "code",
   "execution_count": null,
   "id": "37e14233-ed46-4c33-919c-5b5afd16aad5",
   "metadata": {},
   "outputs": [],
   "source": [
    "PYSPARK = False\n",
    "SPARK_RAPIDS_ML = not PYSPARK\n",
    "\n",
    "import shutil"
   ]
  },
  {
   "cell_type": "code",
   "execution_count": null,
   "id": "a2b9e647-50c3-4bd0-874b-8989e467185b",
   "metadata": {},
   "outputs": [],
   "source": [
    "if PYSPARK:\n",
    "    from pyspark.ml.regression import LinearRegression, LinearRegressionModel\n",
    "else:\n",
    "    from spark_rapids_ml.regression import LinearRegression, LinearRegressionModel\n",
    "\n",
    "from pyspark.ml.linalg import Vectors"
   ]
  },
  {
   "cell_type": "code",
   "execution_count": null,
   "id": "1c6e94f2-9e9b-45b5-82b6-3bd61a410b88",
   "metadata": {},
   "outputs": [],
   "source": [
    "# Note: spark_rapids_ml.regression.LinearRegression doesn't support datasets with only one feature, so padding dataset\n",
    "df = spark.createDataFrame([\n",
    "    (1.0, 2.0, Vectors.dense(1.0, 0.0)),\n",
    "    (0.0, 2.0, Vectors.sparse(2, [], []))], [\"label\", \"weight\", \"features\"])\n",
    "\n",
    "df.show(); df.schema"
   ]
  },
  {
   "cell_type": "code",
   "execution_count": null,
   "id": "3b4a74fc-f83c-413f-8302-c53a39153ec8",
   "metadata": {},
   "outputs": [],
   "source": [
    "if PYSPARK:\n",
    "    lr = LinearRegression(regParam=0.0, solver=\"normal\", weightCol=\"weight\")\n",
    "else:\n",
    "    # 'solver: normal' gets value mapped to 'solver: eig'\n",
    "    # 'weightCol` is explicitly not supported\n",
    "    lr = LinearRegression(regParam=0.0, solver=\"normal\")\n",
    "\n",
    "lr.setMaxIter(5)\n",
    "lr.getMaxIter()\n",
    "# 5"
   ]
  },
  {
   "cell_type": "code",
   "execution_count": null,
   "id": "8895e735-b09f-49b2-a342-29f2405e94f5",
   "metadata": {},
   "outputs": [],
   "source": [
    "print(lr.explainParams())"
   ]
  },
  {
   "cell_type": "code",
   "execution_count": null,
   "id": "8c766d10-6c69-448a-be07-d43bca4de6c0",
   "metadata": {},
   "outputs": [],
   "source": [
    "if SPARK_RAPIDS_ML:\n",
    "    print(lr.cuml_params)"
   ]
  },
  {
   "cell_type": "code",
   "execution_count": null,
   "id": "50d3e6b0-14f6-4e9f-85c5-3fab4335f49c",
   "metadata": {},
   "outputs": [],
   "source": [
    "lr.setRegParam(0.1)\n",
    "lr.getRegParam()\n",
    "# 0.1"
   ]
  },
  {
   "cell_type": "code",
   "execution_count": null,
   "id": "e35968e1-8af4-4664-994c-83fab9dae385",
   "metadata": {},
   "outputs": [],
   "source": [
    "lr.setRegParam(0.0)"
   ]
  },
  {
   "cell_type": "code",
   "execution_count": null,
   "id": "9f8280b3-a086-472d-8e87-7d52d9cd72d1",
   "metadata": {},
   "outputs": [],
   "source": [
    "print(lr.explainParams())"
   ]
  },
  {
   "cell_type": "code",
   "execution_count": null,
   "id": "8905c16f-5211-4a12-9863-6bdb31ffe54e",
   "metadata": {},
   "outputs": [],
   "source": [
    "if SPARK_RAPIDS_ML:\n",
    "    print(lr.cuml_params)"
   ]
  },
  {
   "cell_type": "code",
   "execution_count": null,
   "id": "8433e07a-bdc0-489c-a869-9b3d9fe0090a",
   "metadata": {
    "tags": []
   },
   "outputs": [],
   "source": [
    "model = lr.fit(df)"
   ]
  },
  {
   "cell_type": "code",
   "execution_count": null,
   "id": "8d91f297-57d1-4cf4-98e9-36eb4c5f02f4",
   "metadata": {
    "tags": []
   },
   "outputs": [],
   "source": [
    "model.setFeaturesCol(\"features\")\n",
    "model.setPredictionCol(\"newPrediction\")\n",
    "model.getMaxIter()\n",
    "# 5"
   ]
  },
  {
   "cell_type": "code",
   "execution_count": null,
   "id": "a2a69a05-dc6c-4a8d-9c98-69996051e375",
   "metadata": {
    "tags": []
   },
   "outputs": [],
   "source": [
    "model.getMaxBlockSizeInMB()\n",
    "# 0.0"
   ]
  },
  {
   "cell_type": "code",
   "execution_count": null,
   "id": "a6533a51-7d7f-4000-8564-236dede745b4",
   "metadata": {
    "tags": []
   },
   "outputs": [],
   "source": [
    "# Note: spark_rapids_ml.regression.LinearRegression doesn't supports datasets with only one feature, so padding dataset\n",
    "test0 = spark.createDataFrame([(Vectors.dense(1.0, 1.0),)], [\"features\"])"
   ]
  },
  {
   "cell_type": "code",
   "execution_count": null,
   "id": "38fd9789-4690-4325-bf0a-5508e3d64b6a",
   "metadata": {
    "tags": []
   },
   "outputs": [],
   "source": [
    "if PYSPARK:\n",
    "    print(abs(model.predict(test0.head().features) - (1.0)) < 0.001)\n",
    "    # True\n",
    "else:\n",
    "    # NotImplementedError: 'predict' method is not supported, use 'transform' instead.\n",
    "    pass"
   ]
  },
  {
   "cell_type": "code",
   "execution_count": null,
   "id": "e2e6f55e-cbf6-4834-9002-063139426b9f",
   "metadata": {
    "tags": []
   },
   "outputs": [],
   "source": [
    "abs(model.transform(test0).head().newPrediction - (1.0)) < 0.001\n",
    "# True"
   ]
  },
  {
   "cell_type": "code",
   "execution_count": null,
   "id": "452838c2-7d4d-4019-91e6-11041083bcea",
   "metadata": {
    "tags": []
   },
   "outputs": [],
   "source": [
    "abs(model.coefficients[0] - 1.0) < 0.001\n",
    "# True"
   ]
  },
  {
   "cell_type": "code",
   "execution_count": null,
   "id": "f3f89a32-b59b-4eed-9679-c59567c4c8f5",
   "metadata": {
    "tags": []
   },
   "outputs": [],
   "source": [
    "model.coefficients\n",
    "# DenseVector([1.0, 0.0])"
   ]
  },
  {
   "cell_type": "code",
   "execution_count": null,
   "id": "378e6dba-d402-4eba-9d1d-16546a69bd80",
   "metadata": {
    "tags": []
   },
   "outputs": [],
   "source": [
    "abs(model.intercept - 0.0) < 0.001\n",
    "# True"
   ]
  },
  {
   "cell_type": "code",
   "execution_count": null,
   "id": "aa4cedbf-4be7-46c4-9491-dfd2b9b855ca",
   "metadata": {
    "tags": []
   },
   "outputs": [],
   "source": [
    "lr_path = \"/tmp/lr\"\n",
    "lr.write().overwrite().save(lr_path)"
   ]
  },
  {
   "cell_type": "code",
   "execution_count": null,
   "id": "7cfdcca8-f43f-413e-a1c6-71befec8bc32",
   "metadata": {
    "tags": []
   },
   "outputs": [],
   "source": [
    "lr2 = LinearRegression.load(lr_path)\n",
    "lr2.getMaxIter()\n",
    "# 5"
   ]
  },
  {
   "cell_type": "code",
   "execution_count": null,
   "id": "bf329f83-a1e3-4bed-b35c-4cec415d3c80",
   "metadata": {
    "tags": []
   },
   "outputs": [],
   "source": [
    "model_path = \"/tmp/lr_model\"\n",
    "model.write().overwrite().save(model_path)"
   ]
  },
  {
   "cell_type": "code",
   "execution_count": null,
   "id": "156cbc29-9fc3-44bf-affd-eb34ee4e75bc",
   "metadata": {
    "tags": []
   },
   "outputs": [],
   "source": [
    "model2 = LinearRegressionModel.load(model_path)\n",
    "model.coefficients[0] == model2.coefficients[0]\n",
    "# True"
   ]
  },
  {
   "cell_type": "code",
   "execution_count": null,
   "id": "b5eca785-5f37-49d5-a8bd-4d0482278b84",
   "metadata": {
    "tags": []
   },
   "outputs": [],
   "source": [
    "model.intercept == model2.intercept\n",
    "# True"
   ]
  },
  {
   "cell_type": "code",
   "execution_count": null,
   "id": "b24ff7b6-ec10-4b47-a4b5-f8534b6ea824",
   "metadata": {
    "tags": []
   },
   "outputs": [],
   "source": [
    "model.transform(test0).take(1) == model2.transform(test0).take(1)\n",
    "# True"
   ]
  },
  {
   "cell_type": "code",
   "execution_count": null,
   "id": "d07fc111-f088-4e8e-b201-867f0b49edb5",
   "metadata": {
    "tags": []
   },
   "outputs": [],
   "source": [
    "model.numFeatures\n",
    "# 2"
   ]
  }
 ],
 "metadata": {
  "kernelspec": {
   "display_name": "Python 3 (ipykernel)",
   "language": "python",
   "name": "python3"
  },
  "language_info": {
   "codemirror_mode": {
    "name": "ipython",
    "version": 3
   },
   "file_extension": ".py",
   "mimetype": "text/x-python",
   "name": "python",
   "nbconvert_exporter": "python",
   "pygments_lexer": "ipython3",
   "version": "3.8.16"
  }
 },
 "nbformat": 4,
 "nbformat_minor": 5
}
