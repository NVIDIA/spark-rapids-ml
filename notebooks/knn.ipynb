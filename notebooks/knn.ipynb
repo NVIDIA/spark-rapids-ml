{
 "cells": [
  {
   "cell_type": "markdown",
   "id": "db673eda-86ee-47a7-975d-aa3d36c2f407",
   "metadata": {},
   "source": [
    "# KNN"
   ]
  },
  {
   "cell_type": "code",
   "execution_count": null,
   "id": "eeb78fae-ae08-4b64-8daa-b579af1d9ba6",
   "metadata": {
    "tags": []
   },
   "outputs": [],
   "source": [
    "import numpy as np\n",
    "\n",
    "from spark_rapids_ml.knn import NearestNeighbors\n",
    "from pyspark.sql import DataFrame, Row\n",
    "from pyspark.sql.functions import col, lit\n",
    "from pyspark.sql.types import IntegerType, StructType, StructField"
   ]
  },
  {
   "cell_type": "markdown",
   "id": "17955bd7-b911-4da6-ad1b-02ae4a5f0a2b",
   "metadata": {},
   "source": [
    "### Create synthetic dataset"
   ]
  },
  {
   "cell_type": "code",
   "execution_count": null,
   "id": "0854c26e-b4f3-480b-b8c2-ab6ae4f73d86",
   "metadata": {},
   "outputs": [],
   "source": [
    "item = [\n",
    "    ([1.0, 1.0], \"a\"),\n",
    "    ([2.0, 2.0], \"b\"),\n",
    "    ([3.0, 3.0], \"c\"),\n",
    "    ([4.0, 4.0], \"d\"),\n",
    "    ([5.0, 5.0], \"e\"),\n",
    "    ([6.0, 6.0], \"f\"),\n",
    "    ([7.0, 7.0], \"g\"),\n",
    "    ([8.0, 8.0], \"h\"),\n",
    "]\n",
    "\n",
    "query = [\n",
    "    ([0.0, 0.0], \"aa\"),\n",
    "    ([1.0, 1.0], \"bb\"),\n",
    "    ([4.1, 4.1], \"cc\"),\n",
    "    ([8.0, 8.0], \"dd\"),\n",
    "    ([9.0, 9.0], \"ee\"),\n",
    "]"
   ]
  },
  {
   "cell_type": "markdown",
   "id": "01d6b576-460a-41d1-a22b-0eb303afcccc",
   "metadata": {},
   "source": [
    "### Convert dataset to Spark DataFrame"
   ]
  },
  {
   "cell_type": "code",
   "execution_count": null,
   "id": "21e2cec5-5bce-42f1-ab95-9bbec802571c",
   "metadata": {
    "tags": []
   },
   "outputs": [],
   "source": [
    "schema = f\"features array<float>, metadata string\"\n",
    "item_df = spark.createDataFrame(item, schema)\n",
    "query_df = spark.createDataFrame(query, schema)"
   ]
  },
  {
   "cell_type": "markdown",
   "id": "204b7e72-737e-4a8d-81ce-5a275cb7446a",
   "metadata": {},
   "source": [
    "## Spark RAPIDS ML (GPU)"
   ]
  },
  {
   "cell_type": "code",
   "execution_count": null,
   "id": "c105d965-cec5-430b-be88-3a9d1476147c",
   "metadata": {
    "tags": []
   },
   "outputs": [],
   "source": [
    "knn = NearestNeighbors(k=2)\n",
    "knn.setInputCol(\"features\")"
   ]
  },
  {
   "cell_type": "code",
   "execution_count": null,
   "id": "731d2f06-7ca4-4395-a856-e5a8ca403d49",
   "metadata": {
    "tags": []
   },
   "outputs": [],
   "source": [
    "# Note: `fit` just stores a reference to the item_df in the model\n",
    "knn_model = knn.fit(item_df)"
   ]
  },
  {
   "cell_type": "markdown",
   "id": "2d1680c4-fde6-4016-a06c-1db89b53db43",
   "metadata": {},
   "source": [
    "Note: saving either the estimator or model is not supported, since their only state is the referenced dataset.\n",
    "Just re-create and re-fit the estimator on the dataset when needed."
   ]
  },
  {
   "cell_type": "markdown",
   "id": "7210e792-f7aa-4581-8b84-aae2b52d6baf",
   "metadata": {},
   "source": [
    "#### kneighbors\n",
    "\n",
    "This API takes a DataFrame of query vectors, and returns the `k` nearest item vectors for each query vector, represented by their unique ids and distances.  The unique ids are automatically generated if not provided, so the input datasets are also returned with their unique ids."
   ]
  },
  {
   "cell_type": "code",
   "execution_count": null,
   "id": "61d09a34-15a1-456a-a6dd-fc9abad2716a",
   "metadata": {},
   "outputs": [],
   "source": [
    "item_id_df, query_id_df, neighbor_df = knn_model.kneighbors(query_df)"
   ]
  },
  {
   "cell_type": "code",
   "execution_count": null,
   "id": "fde68c05-5cde-4b1e-8ed3-ae5fe2d7015b",
   "metadata": {
    "tags": []
   },
   "outputs": [],
   "source": [
    "# original item_df is returned with unique identifiers\n",
    "item_id_df.show()"
   ]
  },
  {
   "cell_type": "code",
   "execution_count": null,
   "id": "281c204b-5804-4ae8-9064-e6fe08355618",
   "metadata": {
    "tags": []
   },
   "outputs": [],
   "source": [
    "# original query_df is returned with unique identifiers\n",
    "query_id_df.show()"
   ]
  },
  {
   "cell_type": "code",
   "execution_count": null,
   "id": "457b702d-1af0-4c38-b1b5-dd1a1f5f1dec",
   "metadata": {
    "tags": []
   },
   "outputs": [],
   "source": [
    "# neighbor_df shows the nearest item vectors for each query vector, represented by their unique ids and distances.\n",
    "neighbor_df.show()"
   ]
  },
  {
   "cell_type": "code",
   "execution_count": null,
   "id": "62f81b49-6ff3-4656-8b0c-27b32a3f60de",
   "metadata": {
    "tags": []
   },
   "outputs": [],
   "source": [
    "# change the value of 'k'\n",
    "knn_model.setK(3)\n",
    "_, _, neighbor_df = knn_model.kneighbors(query_df)"
   ]
  },
  {
   "cell_type": "code",
   "execution_count": null,
   "id": "a52e7e03-0bac-4378-b219-eda5d00523da",
   "metadata": {
    "tags": []
   },
   "outputs": [],
   "source": [
    "neighbor_df.show()"
   ]
  },
  {
   "cell_type": "markdown",
   "id": "21d0f88c-8ba0-4f25-a42f-45c864972f54",
   "metadata": {},
   "source": [
    "#### exactNearestNeighborsJoin\n",
    "\n",
    "This API returns a join of the query vectors and their `k` closest item vectors."
   ]
  },
  {
   "cell_type": "code",
   "execution_count": null,
   "id": "6dc0fd29-f25e-4d89-95fe-ebd2efbfe9ea",
   "metadata": {
    "tags": []
   },
   "outputs": [],
   "source": [
    "result_df = knn_model.exactNearestNeighborsJoin(query_df)"
   ]
  },
  {
   "cell_type": "code",
   "execution_count": null,
   "id": "5196d375-db08-4292-a865-61fecd07fe41",
   "metadata": {
    "tags": []
   },
   "outputs": [],
   "source": [
    "result_df.orderBy(\"query_df\", \"item_df\").show()"
   ]
  },
  {
   "cell_type": "markdown",
   "id": "8cd56670-7633-4fe6-ab75-0fd680c63baa",
   "metadata": {},
   "source": [
    "# PySpark\n",
    "\n",
    "Note: PySpark does not have an exact kNN implementation, but it does have an LSH-based approximate nearest neighbors implementation, shown here."
   ]
  },
  {
   "cell_type": "code",
   "execution_count": null,
   "id": "a21c783f-c4ed-43b3-a869-7395b94152f3",
   "metadata": {
    "tags": []
   },
   "outputs": [],
   "source": [
    "from pyspark.ml.feature import BucketedRandomProjectionLSH\n",
    "from pyspark.ml.functions import array_to_vector\n",
    "from pyspark.ml.linalg import Vectors\n",
    "from pyspark.sql.functions import col\n",
    "\n",
    "item_vector_df = item_df.select(array_to_vector(item_df.features).alias(\"features\"))\n",
    "query_vector_df = query_df.select(array_to_vector(query_df.features).alias(\"features\"))\n",
    "key = Vectors.dense([1.0, 1.0])"
   ]
  },
  {
   "cell_type": "code",
   "execution_count": null,
   "id": "f4288d38-6426-41c0-87a2-a75bc9d4bbda",
   "metadata": {
    "tags": []
   },
   "outputs": [],
   "source": [
    "item_vector_df.show()"
   ]
  },
  {
   "cell_type": "code",
   "execution_count": null,
   "id": "655f8071-c90e-464b-aa25-58d96bbeebea",
   "metadata": {
    "tags": []
   },
   "outputs": [],
   "source": [
    "query_vector_df.show()"
   ]
  },
  {
   "cell_type": "code",
   "execution_count": null,
   "id": "c8712f3f-4662-409e-8172-29308ec84e0c",
   "metadata": {
    "tags": []
   },
   "outputs": [],
   "source": [
    "brp = BucketedRandomProjectionLSH(inputCol=\"features\", outputCol=\"hashes\", bucketLength=2.0, numHashTables=3)\n",
    "model = brp.fit(item_vector_df)"
   ]
  },
  {
   "cell_type": "code",
   "execution_count": null,
   "id": "4aa5813b-41b9-4b51-9977-721e6f90118e",
   "metadata": {
    "tags": []
   },
   "outputs": [],
   "source": [
    "# Feature Transformation\n",
    "print(\"The hashed dataset where hashed values are stored in the column 'hashes':\")\n",
    "model.transform(item_vector_df).show()"
   ]
  },
  {
   "cell_type": "code",
   "execution_count": null,
   "id": "90f7049a-5ed1-44a8-b0d0-be63f6458e0a",
   "metadata": {
    "tags": []
   },
   "outputs": [],
   "source": [
    "# Compute the locality sensitive hashes for the input rows, then perform approximate similarity join.\n",
    "# We could avoid computing hashes by passing in the already-transformed dataset, e.g.\n",
    "# `model.approxSimilarityJoin(transformedA, transformedB, 1.5)`\n",
    "print(\"Approximately joining items and queries on Euclidean distance smaller than 3.0:\")\n",
    "model.approxSimilarityJoin(item_vector_df, query_vector_df, 3.0, distCol=\"EuclideanDistance\")\\\n",
    "    .select(col(\"datasetA.features\").alias(\"item\"),\n",
    "            col(\"datasetB.features\").alias(\"query\"),\n",
    "            col(\"EuclideanDistance\")).orderBy(\"query\", \"item\").show()\n",
    "\n",
    "# results = model.approxSimilarityJoin(item_vector_df, query_vector_df, 1.5, distCol=\"EuclideanDistance\")"
   ]
  },
  {
   "cell_type": "code",
   "execution_count": null,
   "id": "e70d24b7-db70-4041-9794-7cd5451bad76",
   "metadata": {
    "tags": []
   },
   "outputs": [],
   "source": [
    "# Compute the locality sensitive hashes for the input rows, then perform approximate nearest neighbor search.\n",
    "# We could avoid computing hashes by passing in the already-transformed dataset, e.g.\n",
    "# `model.approxNearestNeighbors(transformedA, key, 2)`\n",
    "print(\"Approximately searching item vectors for 2 nearest neighbors of the key:\")\n",
    "model.approxNearestNeighbors(item_vector_df, key, 2).show()"
   ]
  },
  {
   "cell_type": "code",
   "execution_count": null,
   "id": "79a8dc90-379a-409b-8c8a-a26f33910c0d",
   "metadata": {
    "tags": []
   },
   "outputs": [],
   "source": [
    "# saves the LSH hashes for the input rows\n",
    "model.write().overwrite().save(\"/tmp/ann_model\")"
   ]
  }
 ],
 "metadata": {
  "kernelspec": {
   "display_name": "Python 3 (ipykernel)",
   "language": "python",
   "name": "python3"
  },
  "language_info": {
   "codemirror_mode": {
    "name": "ipython",
    "version": 3
   },
   "file_extension": ".py",
   "mimetype": "text/x-python",
   "name": "python",
   "nbconvert_exporter": "python",
   "pygments_lexer": "ipython3",
   "version": "3.8.16"
  }
 },
 "nbformat": 4,
 "nbformat_minor": 5
}
